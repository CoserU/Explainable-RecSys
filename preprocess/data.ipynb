{
  "nbformat": 4,
  "nbformat_minor": 0,
  "metadata": {
    "colab": {
      "name": "data.ipynb",
      "provenance": [],
      "collapsed_sections": []
    },
    "kernelspec": {
      "name": "python3",
      "display_name": "Python 3"
    }
  },
  "cells": [
    {
      "cell_type": "markdown",
      "metadata": {
        "id": "8EckDxR3dpaA",
        "colab_type": "text"
      },
      "source": [
        "# Data Wrangling"
      ]
    },
    {
      "cell_type": "code",
      "metadata": {
        "id": "GqCW960x4Q3q",
        "colab_type": "code",
        "colab": {}
      },
      "source": [
        "!mkdir -p data/toyandgame"
      ],
      "execution_count": 0,
      "outputs": []
    },
    {
      "cell_type": "code",
      "metadata": {
        "id": "AcRKSqZb5QKE",
        "colab_type": "code",
        "outputId": "fc3d3495-4a58-4966-a28b-1c8c59e40987",
        "colab": {
          "base_uri": "https://localhost:8080/",
          "height": 204
        }
      },
      "source": [
        "!wget -O data/toyandgame/Toys_and_Games_5.json.gz http://snap.stanford.edu/data/amazon/productGraph/categoryFiles/reviews_Toys_and_Games_5.json.gz"
      ],
      "execution_count": 0,
      "outputs": [
        {
          "output_type": "stream",
          "text": [
            "--2020-01-22 01:28:34--  http://snap.stanford.edu/data/amazon/productGraph/categoryFiles/reviews_Toys_and_Games_5.json.gz\n",
            "Resolving snap.stanford.edu (snap.stanford.edu)... 171.64.75.80\n",
            "Connecting to snap.stanford.edu (snap.stanford.edu)|171.64.75.80|:80... connected.\n",
            "HTTP request sent, awaiting response... 200 OK\n",
            "Length: 42057555 (40M) [application/x-gzip]\n",
            "Saving to: ‘data/toyandgame/Toys_and_Games_5.json.gz’\n",
            "\n",
            "data/toyandgame/Toy 100%[===================>]  40.11M  7.18MB/s    in 8.5s    \n",
            "\n",
            "2020-01-22 01:28:43 (4.69 MB/s) - ‘data/toyandgame/Toys_and_Games_5.json.gz’ saved [42057555/42057555]\n",
            "\n"
          ],
          "name": "stdout"
        }
      ]
    },
    {
      "cell_type": "code",
      "metadata": {
        "id": "dXQZ0aZ7xogn",
        "colab_type": "code",
        "colab": {}
      },
      "source": [
        "import os\n",
        "import json\n",
        "import pandas as pd\n",
        "import pickle\n",
        "import numpy as np"
      ],
      "execution_count": 0,
      "outputs": []
    },
    {
      "cell_type": "code",
      "metadata": {
        "id": "UgzWNhpOyJAU",
        "colab_type": "code",
        "colab": {}
      },
      "source": [
        "!gzip data/toyandgame/Toys_and_Games_5.json.gz -d"
      ],
      "execution_count": 0,
      "outputs": []
    },
    {
      "cell_type": "code",
      "metadata": {
        "id": "CiTyOFAa6xxr",
        "colab_type": "code",
        "outputId": "6db9c098-cb06-440a-8eb8-b2b393b56cd1",
        "colab": {
          "base_uri": "https://localhost:8080/",
          "height": 34
        }
      },
      "source": [
        "!ls data/toyandgame"
      ],
      "execution_count": 0,
      "outputs": [
        {
          "output_type": "stream",
          "text": [
            "Toys_and_Games_5.json\n"
          ],
          "name": "stdout"
        }
      ]
    },
    {
      "cell_type": "code",
      "metadata": {
        "id": "IxrwnGzByaUp",
        "colab_type": "code",
        "colab": {}
      },
      "source": [
        "TPS_DIR = 'data/toyandgame'\n",
        "TP_file = os.path.join(TPS_DIR, 'Toys_and_Games_5.json')\n",
        "\n",
        "f= open(TP_file)"
      ],
      "execution_count": 0,
      "outputs": []
    },
    {
      "cell_type": "code",
      "metadata": {
        "id": "yOfGTJ96xikN",
        "colab_type": "code",
        "colab": {}
      },
      "source": [
        "users_id=[]\n",
        "items_id=[]\n",
        "ratings=[]\n",
        "reviews=[]\n",
        "np.random.seed(2017)\n",
        "\n",
        "for line in f:\n",
        "    js=json.loads(line)\n",
        "    if str(js['reviewerID'])=='unknown':\n",
        "        print(\"unknown\")\n",
        "        continue\n",
        "    if str(js['asin'])=='unknown':\n",
        "        print(\"unknown2\")\n",
        "        continue\n",
        "    reviews.append(js['reviewText'])\n",
        "    users_id.append(str(js['reviewerID'])+',')\n",
        "    items_id.append(str(js['asin'])+',')\n",
        "    ratings.append(str(js['overall']))\n"
      ],
      "execution_count": 0,
      "outputs": []
    },
    {
      "cell_type": "code",
      "metadata": {
        "id": "lO0sUlZ6ymho",
        "colab_type": "code",
        "colab": {}
      },
      "source": [
        "data=pd.DataFrame({'user_id':pd.Series(users_id),\n",
        "                   'item_id':pd.Series(items_id),\n",
        "                   'ratings':pd.Series(ratings),\n",
        "                   'reviews':pd.Series(reviews)})[['user_id','item_id','ratings','reviews']]"
      ],
      "execution_count": 0,
      "outputs": []
    },
    {
      "cell_type": "code",
      "metadata": {
        "id": "os9L0PP40GZk",
        "colab_type": "code",
        "outputId": "34828704-1cdb-438b-851d-1fdbfd474884",
        "colab": {
          "base_uri": "https://localhost:8080/",
          "height": 170
        }
      },
      "source": [
        "data.info()"
      ],
      "execution_count": 0,
      "outputs": [
        {
          "output_type": "stream",
          "text": [
            "<class 'pandas.core.frame.DataFrame'>\n",
            "RangeIndex: 167597 entries, 0 to 167596\n",
            "Data columns (total 4 columns):\n",
            "user_id    167597 non-null object\n",
            "item_id    167597 non-null object\n",
            "ratings    167597 non-null object\n",
            "reviews    167597 non-null object\n",
            "dtypes: object(4)\n",
            "memory usage: 5.1+ MB\n"
          ],
          "name": "stdout"
        }
      ]
    },
    {
      "cell_type": "code",
      "metadata": {
        "id": "MtMBmoiky74o",
        "colab_type": "code",
        "outputId": "c4e62e65-369d-48aa-832f-6be62a9ce86f",
        "colab": {
          "base_uri": "https://localhost:8080/",
          "height": 669
        }
      },
      "source": [
        "data.head(20)"
      ],
      "execution_count": 0,
      "outputs": [
        {
          "output_type": "execute_result",
          "data": {
            "text/html": [
              "<div>\n",
              "<style scoped>\n",
              "    .dataframe tbody tr th:only-of-type {\n",
              "        vertical-align: middle;\n",
              "    }\n",
              "\n",
              "    .dataframe tbody tr th {\n",
              "        vertical-align: top;\n",
              "    }\n",
              "\n",
              "    .dataframe thead th {\n",
              "        text-align: right;\n",
              "    }\n",
              "</style>\n",
              "<table border=\"1\" class=\"dataframe\">\n",
              "  <thead>\n",
              "    <tr style=\"text-align: right;\">\n",
              "      <th></th>\n",
              "      <th>user_id</th>\n",
              "      <th>item_id</th>\n",
              "      <th>ratings</th>\n",
              "      <th>reviews</th>\n",
              "    </tr>\n",
              "  </thead>\n",
              "  <tbody>\n",
              "    <tr>\n",
              "      <th>0</th>\n",
              "      <td>A1VXOAVRGKGEAK,</td>\n",
              "      <td>0439893577,</td>\n",
              "      <td>5.0</td>\n",
              "      <td>I like the item pricing. My granddaughter want...</td>\n",
              "    </tr>\n",
              "    <tr>\n",
              "      <th>1</th>\n",
              "      <td>A8R62G708TSCM,</td>\n",
              "      <td>0439893577,</td>\n",
              "      <td>4.0</td>\n",
              "      <td>Love the magnet easel... great for moving to d...</td>\n",
              "    </tr>\n",
              "    <tr>\n",
              "      <th>2</th>\n",
              "      <td>A21KH420DK0ICA,</td>\n",
              "      <td>0439893577,</td>\n",
              "      <td>5.0</td>\n",
              "      <td>Both sides are magnetic.  A real plus when you...</td>\n",
              "    </tr>\n",
              "    <tr>\n",
              "      <th>3</th>\n",
              "      <td>AR29QK6HPFYZ4,</td>\n",
              "      <td>0439893577,</td>\n",
              "      <td>5.0</td>\n",
              "      <td>Bought one a few years ago for my daughter and...</td>\n",
              "    </tr>\n",
              "    <tr>\n",
              "      <th>4</th>\n",
              "      <td>ACCH8EOML6FN5,</td>\n",
              "      <td>0439893577,</td>\n",
              "      <td>4.0</td>\n",
              "      <td>I have a stainless steel refrigerator therefor...</td>\n",
              "    </tr>\n",
              "    <tr>\n",
              "      <th>5</th>\n",
              "      <td>A1EDPGHC9EYBUN,</td>\n",
              "      <td>0439893577,</td>\n",
              "      <td>3.0</td>\n",
              "      <td>this is a nice magnetic board for the kids to ...</td>\n",
              "    </tr>\n",
              "    <tr>\n",
              "      <th>6</th>\n",
              "      <td>A181ZNB42LISRZ,</td>\n",
              "      <td>0439893577,</td>\n",
              "      <td>3.0</td>\n",
              "      <td>This is just as I expected. It's not too sturd...</td>\n",
              "    </tr>\n",
              "    <tr>\n",
              "      <th>7</th>\n",
              "      <td>A1RBEJ5UQ1RWAW,</td>\n",
              "      <td>0439893577,</td>\n",
              "      <td>5.0</td>\n",
              "      <td>My granddaughter really really likes this. I l...</td>\n",
              "    </tr>\n",
              "    <tr>\n",
              "      <th>8</th>\n",
              "      <td>AFGGC7SIV964O,</td>\n",
              "      <td>0439893577,</td>\n",
              "      <td>4.0</td>\n",
              "      <td>This is good product to have with unlimited po...</td>\n",
              "    </tr>\n",
              "    <tr>\n",
              "      <th>9</th>\n",
              "      <td>A2XU46XXNV19C8,</td>\n",
              "      <td>0439893577,</td>\n",
              "      <td>3.0</td>\n",
              "      <td>I keep this board on top of the hallway table ...</td>\n",
              "    </tr>\n",
              "    <tr>\n",
              "      <th>10</th>\n",
              "      <td>A1TNIN1HQIW2L6,</td>\n",
              "      <td>0439893577,</td>\n",
              "      <td>5.0</td>\n",
              "      <td>Very nice to use with magnet letters and pract...</td>\n",
              "    </tr>\n",
              "    <tr>\n",
              "      <th>11</th>\n",
              "      <td>A5I03TZD4J96V,</td>\n",
              "      <td>0439893577,</td>\n",
              "      <td>5.0</td>\n",
              "      <td>Bought this board along with Melissa and Doug ...</td>\n",
              "    </tr>\n",
              "    <tr>\n",
              "      <th>12</th>\n",
              "      <td>A2N4973VTYMV52,</td>\n",
              "      <td>0439893577,</td>\n",
              "      <td>3.0</td>\n",
              "      <td>The board had to be put away for my 18 month o...</td>\n",
              "    </tr>\n",
              "    <tr>\n",
              "      <th>13</th>\n",
              "      <td>A11Q7PYQ87R5Y2,</td>\n",
              "      <td>0439893577,</td>\n",
              "      <td>5.0</td>\n",
              "      <td>sturdy and perfect for coffee table. magnets s...</td>\n",
              "    </tr>\n",
              "    <tr>\n",
              "      <th>14</th>\n",
              "      <td>A3AJWITG95EY0Q,</td>\n",
              "      <td>0439893577,</td>\n",
              "      <td>5.0</td>\n",
              "      <td>We had purchased Melissa &amp; Doug magnets &amp; had ...</td>\n",
              "    </tr>\n",
              "    <tr>\n",
              "      <th>15</th>\n",
              "      <td>A137TYEMD68CAQ,</td>\n",
              "      <td>0439893577,</td>\n",
              "      <td>5.0</td>\n",
              "      <td>We purchased this to go with the magnetic lett...</td>\n",
              "    </tr>\n",
              "    <tr>\n",
              "      <th>16</th>\n",
              "      <td>A1TLCX2PM0TN8P,</td>\n",
              "      <td>0439893577,</td>\n",
              "      <td>5.0</td>\n",
              "      <td>This easel is the perfect size for my three ye...</td>\n",
              "    </tr>\n",
              "    <tr>\n",
              "      <th>17</th>\n",
              "      <td>AQN75W8HMUFSP,</td>\n",
              "      <td>048645195X,</td>\n",
              "      <td>5.0</td>\n",
              "      <td>This is my absolute favorite design book. The ...</td>\n",
              "    </tr>\n",
              "    <tr>\n",
              "      <th>18</th>\n",
              "      <td>A32WT1ZEE4QGZB,</td>\n",
              "      <td>048645195X,</td>\n",
              "      <td>4.0</td>\n",
              "      <td>Working with Mandala type coloring books can t...</td>\n",
              "    </tr>\n",
              "    <tr>\n",
              "      <th>19</th>\n",
              "      <td>A1X3ESYZ79H59E,</td>\n",
              "      <td>048645195X,</td>\n",
              "      <td>5.0</td>\n",
              "      <td>This book contains 30 full page designs that a...</td>\n",
              "    </tr>\n",
              "  </tbody>\n",
              "</table>\n",
              "</div>"
            ],
            "text/plain": [
              "            user_id  ...                                            reviews\n",
              "0   A1VXOAVRGKGEAK,  ...  I like the item pricing. My granddaughter want...\n",
              "1    A8R62G708TSCM,  ...  Love the magnet easel... great for moving to d...\n",
              "2   A21KH420DK0ICA,  ...  Both sides are magnetic.  A real plus when you...\n",
              "3    AR29QK6HPFYZ4,  ...  Bought one a few years ago for my daughter and...\n",
              "4    ACCH8EOML6FN5,  ...  I have a stainless steel refrigerator therefor...\n",
              "5   A1EDPGHC9EYBUN,  ...  this is a nice magnetic board for the kids to ...\n",
              "6   A181ZNB42LISRZ,  ...  This is just as I expected. It's not too sturd...\n",
              "7   A1RBEJ5UQ1RWAW,  ...  My granddaughter really really likes this. I l...\n",
              "8    AFGGC7SIV964O,  ...  This is good product to have with unlimited po...\n",
              "9   A2XU46XXNV19C8,  ...  I keep this board on top of the hallway table ...\n",
              "10  A1TNIN1HQIW2L6,  ...  Very nice to use with magnet letters and pract...\n",
              "11   A5I03TZD4J96V,  ...  Bought this board along with Melissa and Doug ...\n",
              "12  A2N4973VTYMV52,  ...  The board had to be put away for my 18 month o...\n",
              "13  A11Q7PYQ87R5Y2,  ...  sturdy and perfect for coffee table. magnets s...\n",
              "14  A3AJWITG95EY0Q,  ...  We had purchased Melissa & Doug magnets & had ...\n",
              "15  A137TYEMD68CAQ,  ...  We purchased this to go with the magnetic lett...\n",
              "16  A1TLCX2PM0TN8P,  ...  This easel is the perfect size for my three ye...\n",
              "17   AQN75W8HMUFSP,  ...  This is my absolute favorite design book. The ...\n",
              "18  A32WT1ZEE4QGZB,  ...  Working with Mandala type coloring books can t...\n",
              "19  A1X3ESYZ79H59E,  ...  This book contains 30 full page designs that a...\n",
              "\n",
              "[20 rows x 4 columns]"
            ]
          },
          "metadata": {
            "tags": []
          },
          "execution_count": 11
        }
      ]
    },
    {
      "cell_type": "code",
      "metadata": {
        "id": "_1Tu4eKUzcy6",
        "colab_type": "code",
        "colab": {}
      },
      "source": [
        "def get_count(tp, id):\n",
        "    playcount_groupbyid = tp[[id, 'ratings']].groupby(id, as_index=False)\n",
        "    count = playcount_groupbyid.size()\n",
        "    return count\n",
        "usercount, itemcount = get_count(data, 'user_id'), get_count(data, 'item_id')"
      ],
      "execution_count": 0,
      "outputs": []
    },
    {
      "cell_type": "code",
      "metadata": {
        "id": "gvCKWDeIz7To",
        "colab_type": "code",
        "outputId": "dc2fe8c5-d8ed-4224-ffa0-7b62953b36d5",
        "colab": {
          "base_uri": "https://localhost:8080/",
          "height": 238
        }
      },
      "source": [
        "usercount"
      ],
      "execution_count": 0,
      "outputs": [
        {
          "output_type": "execute_result",
          "data": {
            "text/plain": [
              "user_id\n",
              "A012468118FTQAINEI0OQ,     6\n",
              "A0182108CPDLPRCXQUZQ,      8\n",
              "A026961431MGW0616BRS3,     6\n",
              "A034597326Z83X79S50FI,     7\n",
              "A04295422T2ZG087R17FX,     5\n",
              "                          ..\n",
              "AZZLI36GZV6ZD,             9\n",
              "AZZOZQ8AAHT64,             7\n",
              "AZZT1ERHBSNQ8,            23\n",
              "AZZTH6DJ0KSIP,             6\n",
              "AZZYW4YOE1B6E,            19\n",
              "Length: 19412, dtype: int64"
            ]
          },
          "metadata": {
            "tags": []
          },
          "execution_count": 14
        }
      ]
    },
    {
      "cell_type": "code",
      "metadata": {
        "id": "OQVvM3m9r__x",
        "colab_type": "code",
        "outputId": "1fc822af-6741-40bd-cd71-0a07fa2d0a0f",
        "colab": {
          "base_uri": "https://localhost:8080/",
          "height": 238
        }
      },
      "source": [
        "itemcount"
      ],
      "execution_count": 0,
      "outputs": [
        {
          "output_type": "execute_result",
          "data": {
            "text/plain": [
              "item_id\n",
              "0439893577,    17\n",
              "048645195X,    11\n",
              "0545496470,     6\n",
              "0615444172,     6\n",
              "0670010936,    10\n",
              "               ..\n",
              "B00JV9HDP6,     8\n",
              "B00K18YIOU,     5\n",
              "B00KYMCJF8,     8\n",
              "B00KZAROWC,     5\n",
              "B00LBI9BKA,    22\n",
              "Length: 11924, dtype: int64"
            ]
          },
          "metadata": {
            "tags": []
          },
          "execution_count": 15
        }
      ]
    },
    {
      "cell_type": "code",
      "metadata": {
        "id": "Dkx1QHhHzrIa",
        "colab_type": "code",
        "colab": {}
      },
      "source": [
        "unique_uid = usercount.index\n",
        "unique_sid = itemcount.index\n",
        "user2id = dict((uid, i) for (i, uid) in enumerate(unique_uid))\n",
        "item2id = dict((sid, i) for (i, sid) in enumerate(unique_sid))"
      ],
      "execution_count": 0,
      "outputs": []
    },
    {
      "cell_type": "code",
      "metadata": {
        "id": "sMzHHCGFWO3X",
        "colab_type": "code",
        "outputId": "49f20e32-f7ef-4df5-a388-0a2e16087756",
        "colab": {
          "base_uri": "https://localhost:8080/",
          "height": 102
        }
      },
      "source": [
        "for i, key in enumerate(user2id):\n",
        "    if i>=len(user2id)-5:\n",
        "        print(i, key, user2id[key])"
      ],
      "execution_count": 0,
      "outputs": [
        {
          "output_type": "stream",
          "text": [
            "19407 AZZLI36GZV6ZD, 19407\n",
            "19408 AZZOZQ8AAHT64, 19408\n",
            "19409 AZZT1ERHBSNQ8, 19409\n",
            "19410 AZZTH6DJ0KSIP, 19410\n",
            "19411 AZZYW4YOE1B6E, 19411\n"
          ],
          "name": "stdout"
        }
      ]
    },
    {
      "cell_type": "code",
      "metadata": {
        "id": "0A44bYMGtCPL",
        "colab_type": "code",
        "outputId": "b26569ff-4d82-4fad-9254-ac7d7e20e788",
        "colab": {
          "base_uri": "https://localhost:8080/",
          "height": 102
        }
      },
      "source": [
        "for i, key in enumerate(item2id):\n",
        "    if i>=len(item2id)-5:\n",
        "        print(i, key, item2id[key])"
      ],
      "execution_count": 0,
      "outputs": [
        {
          "output_type": "stream",
          "text": [
            "11919 B00JV9HDP6, 11919\n",
            "11920 B00K18YIOU, 11920\n",
            "11921 B00KYMCJF8, 11921\n",
            "11922 B00KZAROWC, 11922\n",
            "11923 B00LBI9BKA, 11923\n"
          ],
          "name": "stdout"
        }
      ]
    },
    {
      "cell_type": "code",
      "metadata": {
        "id": "UH9Dfg18ziGL",
        "colab_type": "code",
        "colab": {}
      },
      "source": [
        "def numerize(tp):\n",
        "    uid = list(map(lambda x: user2id[x], tp['user_id']))\n",
        "    sid = list(map(lambda x: item2id[x], tp['item_id']))\n",
        "    tp['user_id'] = uid\n",
        "    tp['item_id'] = sid\n",
        "    return tp\n",
        "\n",
        "data=numerize(data)\n",
        "tp_rating=data[['user_id','item_id','ratings']]"
      ],
      "execution_count": 0,
      "outputs": []
    },
    {
      "cell_type": "code",
      "metadata": {
        "id": "e8zxj0k01kZE",
        "colab_type": "code",
        "outputId": "19d98afb-0b9a-4d46-edf7-2109fb73a440",
        "colab": {
          "base_uri": "https://localhost:8080/",
          "height": 669
        }
      },
      "source": [
        "tp_rating.head(20)"
      ],
      "execution_count": 0,
      "outputs": [
        {
          "output_type": "execute_result",
          "data": {
            "text/html": [
              "<div>\n",
              "<style scoped>\n",
              "    .dataframe tbody tr th:only-of-type {\n",
              "        vertical-align: middle;\n",
              "    }\n",
              "\n",
              "    .dataframe tbody tr th {\n",
              "        vertical-align: top;\n",
              "    }\n",
              "\n",
              "    .dataframe thead th {\n",
              "        text-align: right;\n",
              "    }\n",
              "</style>\n",
              "<table border=\"1\" class=\"dataframe\">\n",
              "  <thead>\n",
              "    <tr style=\"text-align: right;\">\n",
              "      <th></th>\n",
              "      <th>user_id</th>\n",
              "      <th>item_id</th>\n",
              "      <th>ratings</th>\n",
              "    </tr>\n",
              "  </thead>\n",
              "  <tbody>\n",
              "    <tr>\n",
              "      <th>0</th>\n",
              "      <td>4516</td>\n",
              "      <td>0</td>\n",
              "      <td>5.0</td>\n",
              "    </tr>\n",
              "    <tr>\n",
              "      <th>1</th>\n",
              "      <td>15552</td>\n",
              "      <td>0</td>\n",
              "      <td>4.0</td>\n",
              "    </tr>\n",
              "    <tr>\n",
              "      <th>2</th>\n",
              "      <td>5307</td>\n",
              "      <td>0</td>\n",
              "      <td>5.0</td>\n",
              "    </tr>\n",
              "    <tr>\n",
              "      <th>3</th>\n",
              "      <td>18104</td>\n",
              "      <td>0</td>\n",
              "      <td>5.0</td>\n",
              "    </tr>\n",
              "    <tr>\n",
              "      <th>4</th>\n",
              "      <td>16040</td>\n",
              "      <td>0</td>\n",
              "      <td>4.0</td>\n",
              "    </tr>\n",
              "    <tr>\n",
              "      <th>5</th>\n",
              "      <td>1952</td>\n",
              "      <td>0</td>\n",
              "      <td>3.0</td>\n",
              "    </tr>\n",
              "    <tr>\n",
              "      <th>6</th>\n",
              "      <td>1114</td>\n",
              "      <td>0</td>\n",
              "      <td>3.0</td>\n",
              "    </tr>\n",
              "    <tr>\n",
              "      <th>7</th>\n",
              "      <td>3879</td>\n",
              "      <td>0</td>\n",
              "      <td>5.0</td>\n",
              "    </tr>\n",
              "    <tr>\n",
              "      <th>8</th>\n",
              "      <td>16454</td>\n",
              "      <td>0</td>\n",
              "      <td>4.0</td>\n",
              "    </tr>\n",
              "    <tr>\n",
              "      <th>9</th>\n",
              "      <td>9950</td>\n",
              "      <td>0</td>\n",
              "      <td>3.0</td>\n",
              "    </tr>\n",
              "    <tr>\n",
              "      <th>10</th>\n",
              "      <td>4221</td>\n",
              "      <td>0</td>\n",
              "      <td>5.0</td>\n",
              "    </tr>\n",
              "    <tr>\n",
              "      <th>11</th>\n",
              "      <td>15076</td>\n",
              "      <td>0</td>\n",
              "      <td>5.0</td>\n",
              "    </tr>\n",
              "    <tr>\n",
              "      <th>12</th>\n",
              "      <td>8343</td>\n",
              "      <td>0</td>\n",
              "      <td>3.0</td>\n",
              "    </tr>\n",
              "    <tr>\n",
              "      <th>13</th>\n",
              "      <td>226</td>\n",
              "      <td>0</td>\n",
              "      <td>5.0</td>\n",
              "    </tr>\n",
              "    <tr>\n",
              "      <th>14</th>\n",
              "      <td>11744</td>\n",
              "      <td>0</td>\n",
              "      <td>5.0</td>\n",
              "    </tr>\n",
              "    <tr>\n",
              "      <th>15</th>\n",
              "      <td>451</td>\n",
              "      <td>0</td>\n",
              "      <td>5.0</td>\n",
              "    </tr>\n",
              "    <tr>\n",
              "      <th>16</th>\n",
              "      <td>4214</td>\n",
              "      <td>0</td>\n",
              "      <td>5.0</td>\n",
              "    </tr>\n",
              "    <tr>\n",
              "      <th>17</th>\n",
              "      <td>18044</td>\n",
              "      <td>1</td>\n",
              "      <td>5.0</td>\n",
              "    </tr>\n",
              "    <tr>\n",
              "      <th>18</th>\n",
              "      <td>10684</td>\n",
              "      <td>1</td>\n",
              "      <td>4.0</td>\n",
              "    </tr>\n",
              "    <tr>\n",
              "      <th>19</th>\n",
              "      <td>4685</td>\n",
              "      <td>1</td>\n",
              "      <td>5.0</td>\n",
              "    </tr>\n",
              "  </tbody>\n",
              "</table>\n",
              "</div>"
            ],
            "text/plain": [
              "    user_id  item_id ratings\n",
              "0      4516        0     5.0\n",
              "1     15552        0     4.0\n",
              "2      5307        0     5.0\n",
              "3     18104        0     5.0\n",
              "4     16040        0     4.0\n",
              "5      1952        0     3.0\n",
              "6      1114        0     3.0\n",
              "7      3879        0     5.0\n",
              "8     16454        0     4.0\n",
              "9      9950        0     3.0\n",
              "10     4221        0     5.0\n",
              "11    15076        0     5.0\n",
              "12     8343        0     3.0\n",
              "13      226        0     5.0\n",
              "14    11744        0     5.0\n",
              "15      451        0     5.0\n",
              "16     4214        0     5.0\n",
              "17    18044        1     5.0\n",
              "18    10684        1     4.0\n",
              "19     4685        1     5.0"
            ]
          },
          "metadata": {
            "tags": []
          },
          "execution_count": 21
        }
      ]
    },
    {
      "cell_type": "code",
      "metadata": {
        "id": "PcKVFvx608f5",
        "colab_type": "code",
        "colab": {}
      },
      "source": [
        "n_ratings = tp_rating.shape[0]\n",
        "test = np.random.choice(n_ratings, size=int(0.20 * n_ratings), replace=False)\n",
        "test_idx = np.zeros(n_ratings, dtype=bool)\n",
        "test_idx[test] = True\n",
        "\n",
        "tp_1 = tp_rating[test_idx]\n",
        "tp_train= tp_rating[~test_idx]"
      ],
      "execution_count": 0,
      "outputs": []
    },
    {
      "cell_type": "code",
      "metadata": {
        "id": "aHQI44Zl10bA",
        "colab_type": "code",
        "outputId": "811258a3-22ec-4d3d-e6ec-4852a412ee9a",
        "colab": {
          "base_uri": "https://localhost:8080/",
          "height": 34
        }
      },
      "source": [
        "tp_1.shape, tp_train.shape"
      ],
      "execution_count": 0,
      "outputs": [
        {
          "output_type": "execute_result",
          "data": {
            "text/plain": [
              "((33519, 3), (134078, 3))"
            ]
          },
          "metadata": {
            "tags": []
          },
          "execution_count": 23
        }
      ]
    },
    {
      "cell_type": "code",
      "metadata": {
        "id": "QOfHl__L092q",
        "colab_type": "code",
        "colab": {}
      },
      "source": [
        "data2=data[test_idx]\n",
        "data=data[~test_idx]\n",
        "\n",
        "n_ratings = tp_1.shape[0]\n",
        "test = np.random.choice(n_ratings, size=int(0.50 * n_ratings), replace=False)\n",
        "\n",
        "test_idx = np.zeros(n_ratings, dtype=bool)\n",
        "test_idx[test] = True\n",
        "\n",
        "tp_test = tp_1[test_idx]\n",
        "tp_valid = tp_1[~test_idx]"
      ],
      "execution_count": 0,
      "outputs": []
    },
    {
      "cell_type": "code",
      "metadata": {
        "id": "JIYun2Wu35d3",
        "colab_type": "code",
        "outputId": "d48ef90f-9970-40af-a019-892f039aca14",
        "colab": {
          "base_uri": "https://localhost:8080/",
          "height": 34
        }
      },
      "source": [
        "tp_train.shape, tp_valid.shape, tp_test.shape"
      ],
      "execution_count": 0,
      "outputs": [
        {
          "output_type": "execute_result",
          "data": {
            "text/plain": [
              "((134078, 3), (16760, 3), (16759, 3))"
            ]
          },
          "metadata": {
            "tags": []
          },
          "execution_count": 26
        }
      ]
    },
    {
      "cell_type": "code",
      "metadata": {
        "id": "7AFRiwgnQrmp",
        "colab_type": "code",
        "outputId": "b40bf1ce-a16b-4e79-c175-dd48f3835bae",
        "colab": {
          "base_uri": "https://localhost:8080/",
          "height": 419
        }
      },
      "source": [
        "tp_train"
      ],
      "execution_count": 0,
      "outputs": [
        {
          "output_type": "execute_result",
          "data": {
            "text/html": [
              "<div>\n",
              "<style scoped>\n",
              "    .dataframe tbody tr th:only-of-type {\n",
              "        vertical-align: middle;\n",
              "    }\n",
              "\n",
              "    .dataframe tbody tr th {\n",
              "        vertical-align: top;\n",
              "    }\n",
              "\n",
              "    .dataframe thead th {\n",
              "        text-align: right;\n",
              "    }\n",
              "</style>\n",
              "<table border=\"1\" class=\"dataframe\">\n",
              "  <thead>\n",
              "    <tr style=\"text-align: right;\">\n",
              "      <th></th>\n",
              "      <th>user_id</th>\n",
              "      <th>item_id</th>\n",
              "      <th>ratings</th>\n",
              "    </tr>\n",
              "  </thead>\n",
              "  <tbody>\n",
              "    <tr>\n",
              "      <th>1</th>\n",
              "      <td>15552</td>\n",
              "      <td>0</td>\n",
              "      <td>4.0</td>\n",
              "    </tr>\n",
              "    <tr>\n",
              "      <th>2</th>\n",
              "      <td>5307</td>\n",
              "      <td>0</td>\n",
              "      <td>5.0</td>\n",
              "    </tr>\n",
              "    <tr>\n",
              "      <th>3</th>\n",
              "      <td>18104</td>\n",
              "      <td>0</td>\n",
              "      <td>5.0</td>\n",
              "    </tr>\n",
              "    <tr>\n",
              "      <th>4</th>\n",
              "      <td>16040</td>\n",
              "      <td>0</td>\n",
              "      <td>4.0</td>\n",
              "    </tr>\n",
              "    <tr>\n",
              "      <th>5</th>\n",
              "      <td>1952</td>\n",
              "      <td>0</td>\n",
              "      <td>3.0</td>\n",
              "    </tr>\n",
              "    <tr>\n",
              "      <th>...</th>\n",
              "      <td>...</td>\n",
              "      <td>...</td>\n",
              "      <td>...</td>\n",
              "    </tr>\n",
              "    <tr>\n",
              "      <th>167592</th>\n",
              "      <td>1202</td>\n",
              "      <td>11923</td>\n",
              "      <td>5.0</td>\n",
              "    </tr>\n",
              "    <tr>\n",
              "      <th>167593</th>\n",
              "      <td>2536</td>\n",
              "      <td>11923</td>\n",
              "      <td>5.0</td>\n",
              "    </tr>\n",
              "    <tr>\n",
              "      <th>167594</th>\n",
              "      <td>14683</td>\n",
              "      <td>11923</td>\n",
              "      <td>5.0</td>\n",
              "    </tr>\n",
              "    <tr>\n",
              "      <th>167595</th>\n",
              "      <td>4532</td>\n",
              "      <td>11923</td>\n",
              "      <td>5.0</td>\n",
              "    </tr>\n",
              "    <tr>\n",
              "      <th>167596</th>\n",
              "      <td>18723</td>\n",
              "      <td>11923</td>\n",
              "      <td>4.0</td>\n",
              "    </tr>\n",
              "  </tbody>\n",
              "</table>\n",
              "<p>134078 rows × 3 columns</p>\n",
              "</div>"
            ],
            "text/plain": [
              "        user_id  item_id ratings\n",
              "1         15552        0     4.0\n",
              "2          5307        0     5.0\n",
              "3         18104        0     5.0\n",
              "4         16040        0     4.0\n",
              "5          1952        0     3.0\n",
              "...         ...      ...     ...\n",
              "167592     1202    11923     5.0\n",
              "167593     2536    11923     5.0\n",
              "167594    14683    11923     5.0\n",
              "167595     4532    11923     5.0\n",
              "167596    18723    11923     4.0\n",
              "\n",
              "[134078 rows x 3 columns]"
            ]
          },
          "metadata": {
            "tags": []
          },
          "execution_count": 27
        }
      ]
    },
    {
      "cell_type": "code",
      "metadata": {
        "id": "t_lXd3TNQtw8",
        "colab_type": "code",
        "outputId": "885f5888-877a-4e1b-ccbe-090da296224e",
        "colab": {
          "base_uri": "https://localhost:8080/",
          "height": 419
        }
      },
      "source": [
        "tp_valid"
      ],
      "execution_count": 0,
      "outputs": [
        {
          "output_type": "execute_result",
          "data": {
            "text/html": [
              "<div>\n",
              "<style scoped>\n",
              "    .dataframe tbody tr th:only-of-type {\n",
              "        vertical-align: middle;\n",
              "    }\n",
              "\n",
              "    .dataframe tbody tr th {\n",
              "        vertical-align: top;\n",
              "    }\n",
              "\n",
              "    .dataframe thead th {\n",
              "        text-align: right;\n",
              "    }\n",
              "</style>\n",
              "<table border=\"1\" class=\"dataframe\">\n",
              "  <thead>\n",
              "    <tr style=\"text-align: right;\">\n",
              "      <th></th>\n",
              "      <th>user_id</th>\n",
              "      <th>item_id</th>\n",
              "      <th>ratings</th>\n",
              "    </tr>\n",
              "  </thead>\n",
              "  <tbody>\n",
              "    <tr>\n",
              "      <th>0</th>\n",
              "      <td>4516</td>\n",
              "      <td>0</td>\n",
              "      <td>5.0</td>\n",
              "    </tr>\n",
              "    <tr>\n",
              "      <th>13</th>\n",
              "      <td>226</td>\n",
              "      <td>0</td>\n",
              "      <td>5.0</td>\n",
              "    </tr>\n",
              "    <tr>\n",
              "      <th>15</th>\n",
              "      <td>451</td>\n",
              "      <td>0</td>\n",
              "      <td>5.0</td>\n",
              "    </tr>\n",
              "    <tr>\n",
              "      <th>17</th>\n",
              "      <td>18044</td>\n",
              "      <td>1</td>\n",
              "      <td>5.0</td>\n",
              "    </tr>\n",
              "    <tr>\n",
              "      <th>25</th>\n",
              "      <td>18561</td>\n",
              "      <td>1</td>\n",
              "      <td>3.0</td>\n",
              "    </tr>\n",
              "    <tr>\n",
              "      <th>...</th>\n",
              "      <td>...</td>\n",
              "      <td>...</td>\n",
              "      <td>...</td>\n",
              "    </tr>\n",
              "    <tr>\n",
              "      <th>167547</th>\n",
              "      <td>4532</td>\n",
              "      <td>11918</td>\n",
              "      <td>5.0</td>\n",
              "    </tr>\n",
              "    <tr>\n",
              "      <th>167548</th>\n",
              "      <td>18723</td>\n",
              "      <td>11918</td>\n",
              "      <td>5.0</td>\n",
              "    </tr>\n",
              "    <tr>\n",
              "      <th>167555</th>\n",
              "      <td>4532</td>\n",
              "      <td>11919</td>\n",
              "      <td>5.0</td>\n",
              "    </tr>\n",
              "    <tr>\n",
              "      <th>167573</th>\n",
              "      <td>2027</td>\n",
              "      <td>11922</td>\n",
              "      <td>5.0</td>\n",
              "    </tr>\n",
              "    <tr>\n",
              "      <th>167586</th>\n",
              "      <td>1967</td>\n",
              "      <td>11923</td>\n",
              "      <td>5.0</td>\n",
              "    </tr>\n",
              "  </tbody>\n",
              "</table>\n",
              "<p>16760 rows × 3 columns</p>\n",
              "</div>"
            ],
            "text/plain": [
              "        user_id  item_id ratings\n",
              "0          4516        0     5.0\n",
              "13          226        0     5.0\n",
              "15          451        0     5.0\n",
              "17        18044        1     5.0\n",
              "25        18561        1     3.0\n",
              "...         ...      ...     ...\n",
              "167547     4532    11918     5.0\n",
              "167548    18723    11918     5.0\n",
              "167555     4532    11919     5.0\n",
              "167573     2027    11922     5.0\n",
              "167586     1967    11923     5.0\n",
              "\n",
              "[16760 rows x 3 columns]"
            ]
          },
          "metadata": {
            "tags": []
          },
          "execution_count": 28
        }
      ]
    },
    {
      "cell_type": "code",
      "metadata": {
        "id": "48JtK8Z9Qvye",
        "colab_type": "code",
        "outputId": "52aeee52-9034-4b37-89f3-a75f937f83b1",
        "colab": {
          "base_uri": "https://localhost:8080/",
          "height": 419
        }
      },
      "source": [
        "tp_test"
      ],
      "execution_count": 0,
      "outputs": [
        {
          "output_type": "execute_result",
          "data": {
            "text/html": [
              "<div>\n",
              "<style scoped>\n",
              "    .dataframe tbody tr th:only-of-type {\n",
              "        vertical-align: middle;\n",
              "    }\n",
              "\n",
              "    .dataframe tbody tr th {\n",
              "        vertical-align: top;\n",
              "    }\n",
              "\n",
              "    .dataframe thead th {\n",
              "        text-align: right;\n",
              "    }\n",
              "</style>\n",
              "<table border=\"1\" class=\"dataframe\">\n",
              "  <thead>\n",
              "    <tr style=\"text-align: right;\">\n",
              "      <th></th>\n",
              "      <th>user_id</th>\n",
              "      <th>item_id</th>\n",
              "      <th>ratings</th>\n",
              "    </tr>\n",
              "  </thead>\n",
              "  <tbody>\n",
              "    <tr>\n",
              "      <th>19</th>\n",
              "      <td>4685</td>\n",
              "      <td>1</td>\n",
              "      <td>5.0</td>\n",
              "    </tr>\n",
              "    <tr>\n",
              "      <th>21</th>\n",
              "      <td>7463</td>\n",
              "      <td>1</td>\n",
              "      <td>5.0</td>\n",
              "    </tr>\n",
              "    <tr>\n",
              "      <th>47</th>\n",
              "      <td>1610</td>\n",
              "      <td>4</td>\n",
              "      <td>3.0</td>\n",
              "    </tr>\n",
              "    <tr>\n",
              "      <th>53</th>\n",
              "      <td>7389</td>\n",
              "      <td>5</td>\n",
              "      <td>5.0</td>\n",
              "    </tr>\n",
              "    <tr>\n",
              "      <th>61</th>\n",
              "      <td>16384</td>\n",
              "      <td>6</td>\n",
              "      <td>4.0</td>\n",
              "    </tr>\n",
              "    <tr>\n",
              "      <th>...</th>\n",
              "      <td>...</td>\n",
              "      <td>...</td>\n",
              "      <td>...</td>\n",
              "    </tr>\n",
              "    <tr>\n",
              "      <th>167532</th>\n",
              "      <td>3708</td>\n",
              "      <td>11917</td>\n",
              "      <td>5.0</td>\n",
              "    </tr>\n",
              "    <tr>\n",
              "      <th>167545</th>\n",
              "      <td>1202</td>\n",
              "      <td>11918</td>\n",
              "      <td>5.0</td>\n",
              "    </tr>\n",
              "    <tr>\n",
              "      <th>167560</th>\n",
              "      <td>10789</td>\n",
              "      <td>11920</td>\n",
              "      <td>5.0</td>\n",
              "    </tr>\n",
              "    <tr>\n",
              "      <th>167575</th>\n",
              "      <td>7007</td>\n",
              "      <td>11923</td>\n",
              "      <td>5.0</td>\n",
              "    </tr>\n",
              "    <tr>\n",
              "      <th>167577</th>\n",
              "      <td>10767</td>\n",
              "      <td>11923</td>\n",
              "      <td>5.0</td>\n",
              "    </tr>\n",
              "  </tbody>\n",
              "</table>\n",
              "<p>16759 rows × 3 columns</p>\n",
              "</div>"
            ],
            "text/plain": [
              "        user_id  item_id ratings\n",
              "19         4685        1     5.0\n",
              "21         7463        1     5.0\n",
              "47         1610        4     3.0\n",
              "53         7389        5     5.0\n",
              "61        16384        6     4.0\n",
              "...         ...      ...     ...\n",
              "167532     3708    11917     5.0\n",
              "167545     1202    11918     5.0\n",
              "167560    10789    11920     5.0\n",
              "167575     7007    11923     5.0\n",
              "167577    10767    11923     5.0\n",
              "\n",
              "[16759 rows x 3 columns]"
            ]
          },
          "metadata": {
            "tags": []
          },
          "execution_count": 29
        }
      ]
    },
    {
      "cell_type": "code",
      "metadata": {
        "id": "9eu5J_-f3n-7",
        "colab_type": "code",
        "colab": {}
      },
      "source": [
        "tp_train.to_csv(os.path.join(TPS_DIR, 'toyandgame_train.csv'), index=False,header=None)\n",
        "tp_valid.to_csv(os.path.join(TPS_DIR, 'toyandgame_valid.csv'), index=False,header=None)\n",
        "tp_test.to_csv(os.path.join(TPS_DIR, 'toyandgame_test.csv'), index=False,header=None)"
      ],
      "execution_count": 0,
      "outputs": []
    },
    {
      "cell_type": "code",
      "metadata": {
        "id": "3wARBT1O4E0q",
        "colab_type": "code",
        "outputId": "0cfbe3ff-1734-44a1-8fff-0f9a36ae4644",
        "colab": {
          "base_uri": "https://localhost:8080/",
          "height": 51
        }
      },
      "source": [
        "!ls data/toyandgame"
      ],
      "execution_count": 0,
      "outputs": [
        {
          "output_type": "stream",
          "text": [
            "toyandgame_test.csv   toyandgame_valid.csv\n",
            "toyandgame_train.csv  Toys_and_Games_5.json\n"
          ],
          "name": "stdout"
        }
      ]
    },
    {
      "cell_type": "code",
      "metadata": {
        "id": "-ijLQjUERUX0",
        "colab_type": "code",
        "colab": {}
      },
      "source": [
        "from google.colab import files"
      ],
      "execution_count": 0,
      "outputs": []
    },
    {
      "cell_type": "code",
      "metadata": {
        "id": "6oN_oi5aRioS",
        "colab_type": "code",
        "colab": {}
      },
      "source": [
        "files.download(os.path.join(TPS_DIR, 'toyandgame_train.csv'))\n",
        "files.download(os.path.join(TPS_DIR, 'toyandgame_valid.csv'))\n",
        "files.download(os.path.join(TPS_DIR, 'toyandgame_test.csv'))"
      ],
      "execution_count": 0,
      "outputs": []
    },
    {
      "cell_type": "code",
      "metadata": {
        "id": "mYn7-JvKR5uI",
        "colab_type": "code",
        "colab": {}
      },
      "source": [
        ""
      ],
      "execution_count": 0,
      "outputs": []
    },
    {
      "cell_type": "code",
      "metadata": {
        "id": "USJZaftCSaSN",
        "colab_type": "code",
        "colab": {}
      },
      "source": [
        "user_reviews={}\n",
        "item_reviews={}\n",
        "user_rid={}\n",
        "item_rid={}\n",
        "\n",
        "for i in data.values:\n",
        "    if i[0] in user_reviews:\n",
        "        user_reviews[i[0]].append(i[3])\n",
        "        user_rid[i[0]].append(i[1])\n",
        "    else:\n",
        "        user_reviews[i[0]]=[i[3]]\n",
        "        user_rid[i[0]]=[i[1]]\n",
        "    if i[1] in item_reviews:\n",
        "        item_reviews[i[1]].append(i[3])\n",
        "        item_rid[i[1]].append(i[0])\n",
        "    else:\n",
        "        item_reviews[i[1]] = [i[3]]\n",
        "        item_rid[i[1]]=[i[0]]\n"
      ],
      "execution_count": 0,
      "outputs": []
    },
    {
      "cell_type": "code",
      "metadata": {
        "id": "Xu0xOuPOx-2H",
        "colab_type": "code",
        "outputId": "00ada1c2-8b96-420a-b0dd-a83378e870fb",
        "colab": {
          "base_uri": "https://localhost:8080/",
          "height": 34
        }
      },
      "source": [
        "len(user_reviews), len(item_reviews), len(user_rid), len(item_rid)"
      ],
      "execution_count": 0,
      "outputs": [
        {
          "output_type": "execute_result",
          "data": {
            "text/plain": [
              "(19411, 11924, 19411, 11924)"
            ]
          },
          "metadata": {
            "tags": []
          },
          "execution_count": 37
        }
      ]
    },
    {
      "cell_type": "code",
      "metadata": {
        "id": "DP4Ud7LoTzHw",
        "colab_type": "code",
        "outputId": "1f54c7dd-886f-47c6-e49f-d25f2e81dc4f",
        "colab": {
          "base_uri": "https://localhost:8080/",
          "height": 34
        }
      },
      "source": [
        "# for valid/test sets, add user/item to train set as \"0\" data\n",
        "for i in data2.values:\n",
        "    if i[0] in user_reviews:\n",
        "        l=1\n",
        "    else:\n",
        "        user_rid[i[0]]=[0]\n",
        "        user_reviews[i[0]]=['0']\n",
        "        print('Added user {} to training set!'.format(i[0]))\n",
        "    if i[1] in item_reviews:\n",
        "        l=1\n",
        "    else:\n",
        "        item_rid[i[1]]=[0]\n",
        "        item_reviews[i[1]] = ['0']\n",
        "        print('Added item {} to training set!'.format(i[1]))\n",
        "        "
      ],
      "execution_count": 0,
      "outputs": [
        {
          "output_type": "stream",
          "text": [
            "Added user 9996 to training set!\n"
          ],
          "name": "stdout"
        }
      ]
    },
    {
      "cell_type": "code",
      "metadata": {
        "id": "mFkIri-0byec",
        "colab_type": "code",
        "outputId": "f0f939c8-42e0-4792-ed76-0c81b3e67304",
        "colab": {
          "base_uri": "https://localhost:8080/",
          "height": 34
        }
      },
      "source": [
        "len(user_reviews), len(item_reviews), len(user_rid), len(item_rid)"
      ],
      "execution_count": 0,
      "outputs": [
        {
          "output_type": "execute_result",
          "data": {
            "text/plain": [
              "(19412, 11924, 19412, 11924)"
            ]
          },
          "metadata": {
            "tags": []
          },
          "execution_count": 39
        }
      ]
    },
    {
      "cell_type": "code",
      "metadata": {
        "id": "pJNqVSicTF17",
        "colab_type": "code",
        "colab": {}
      },
      "source": [
        "pickle.dump(user_reviews, open(os.path.join(TPS_DIR, 'user_review'), 'wb'))\n",
        "pickle.dump(item_reviews, open(os.path.join(TPS_DIR, 'item_review'), 'wb'))\n",
        "pickle.dump(user_rid, open(os.path.join(TPS_DIR, 'user_rid'), 'wb'))\n",
        "pickle.dump(item_rid, open(os.path.join(TPS_DIR, 'item_rid'), 'wb'))"
      ],
      "execution_count": 0,
      "outputs": []
    },
    {
      "cell_type": "code",
      "metadata": {
        "id": "1_12JIXEdPXD",
        "colab_type": "code",
        "outputId": "a50dad22-8913-498f-f2ed-aca6d0023cd6",
        "colab": {
          "base_uri": "https://localhost:8080/",
          "height": 51
        }
      },
      "source": [
        "!ls data/toyandgame"
      ],
      "execution_count": 0,
      "outputs": [
        {
          "output_type": "stream",
          "text": [
            "item_review  toyandgame_test.csv   toyandgame_valid.csv   user_review\n",
            "item_rid     toyandgame_train.csv  Toys_and_Games_5.json  user_rid\n"
          ],
          "name": "stdout"
        }
      ]
    },
    {
      "cell_type": "code",
      "metadata": {
        "id": "sEzFgfp6dLwe",
        "colab_type": "code",
        "outputId": "70ad0528-511e-4cd7-8b20-ffd5228018f3",
        "colab": {
          "base_uri": "https://localhost:8080/",
          "height": 51
        }
      },
      "source": [
        "usercount, itemcount = get_count(data, 'user_id'), get_count(data, 'item_id')\n",
        "\n",
        "print(np.sort(np.array(usercount.values)))\n",
        "print(np.sort(np.array(itemcount.values)))"
      ],
      "execution_count": 0,
      "outputs": [
        {
          "output_type": "stream",
          "text": [
            "[  1   1   1 ... 123 131 445]\n",
            "[  1   1   1 ... 173 206 243]\n"
          ],
          "name": "stdout"
        }
      ]
    },
    {
      "cell_type": "code",
      "metadata": {
        "id": "07DKzBd8eLpk",
        "colab_type": "code",
        "outputId": "5934b6a4-e10c-4ba0-e825-85b459181b24",
        "colab": {
          "base_uri": "https://localhost:8080/",
          "height": 34
        }
      },
      "source": [
        "len(np.array(usercount.values)), len(np.array(itemcount.values))"
      ],
      "execution_count": 0,
      "outputs": [
        {
          "output_type": "execute_result",
          "data": {
            "text/plain": [
              "(19411, 11924)"
            ]
          },
          "metadata": {
            "tags": []
          },
          "execution_count": 43
        }
      ]
    },
    {
      "cell_type": "code",
      "metadata": {
        "id": "fgCNkBOhekcs",
        "colab_type": "code",
        "colab": {}
      },
      "source": [
        "from matplotlib import pyplot as plt\n",
        "%matplotlib inline"
      ],
      "execution_count": 0,
      "outputs": []
    },
    {
      "cell_type": "code",
      "metadata": {
        "id": "SiyGpllKe3wh",
        "colab_type": "code",
        "outputId": "89157226-7b76-43cf-8b91-e06a82a0166a",
        "colab": {
          "base_uri": "https://localhost:8080/",
          "height": 282
        }
      },
      "source": [
        "plt.plot(np.sort(np.array(usercount.values)))"
      ],
      "execution_count": 0,
      "outputs": [
        {
          "output_type": "execute_result",
          "data": {
            "text/plain": [
              "[<matplotlib.lines.Line2D at 0x7f452679b0f0>]"
            ]
          },
          "metadata": {
            "tags": []
          },
          "execution_count": 45
        },
        {
          "output_type": "display_data",
          "data": {
            "image/png": "[encoded data removed]",
            "text/plain": [
              "<Figure size 432x288 with 1 Axes>"
            ]
          },
          "metadata": {
            "tags": []
          }
        }
      ]
    },
    {
      "cell_type": "code",
      "metadata": {
        "id": "MQvZ3mENeU0j",
        "colab_type": "code",
        "outputId": "e82842e6-85cf-42a7-d12d-e00db460f629",
        "colab": {
          "base_uri": "https://localhost:8080/",
          "height": 282
        }
      },
      "source": [
        "plt.plot(np.sort(np.array(itemcount.values)))"
      ],
      "execution_count": 0,
      "outputs": [
        {
          "output_type": "execute_result",
          "data": {
            "text/plain": [
              "[<matplotlib.lines.Line2D at 0x7f45262e7550>]"
            ]
          },
          "metadata": {
            "tags": []
          },
          "execution_count": 46
        },
        {
          "output_type": "display_data",
          "data": {
            "image/png": "[encoded data removed]",
            "text/plain": [
              "<Figure size 432x288 with 1 Axes>"
            ]
          },
          "metadata": {
            "tags": []
          }
        }
      ]
    },
    {
      "cell_type": "code",
      "metadata": {
        "colab_type": "code",
        "outputId": "f852ea35-c27f-42b0-f7f9-0f2e68b4853b",
        "id": "wdWWNyyoddB-",
        "colab": {
          "base_uri": "https://localhost:8080/",
          "height": 85
        }
      },
      "source": [
        "!zip -r data/toyandgame/toyandgame.zip data/toyandgame/item_review data/toyandgame/item_rid data/toyandgame/user_review data/toyandgame/user_rid"
      ],
      "execution_count": 0,
      "outputs": [
        {
          "output_type": "stream",
          "text": [
            "  adding: data/toyandgame/item_review (deflated 63%)\n",
            "  adding: data/toyandgame/item_rid (deflated 30%)\n",
            "  adding: data/toyandgame/user_review (deflated 63%)\n",
            "  adding: data/toyandgame/user_rid (deflated 37%)\n"
          ],
          "name": "stdout"
        }
      ]
    },
    {
      "cell_type": "code",
      "metadata": {
        "id": "Doxq2dd24vVz",
        "colab_type": "code",
        "colab": {}
      },
      "source": [
        "files.download('toyandgame.zip')"
      ],
      "execution_count": 0,
      "outputs": []
    },
    {
      "cell_type": "code",
      "metadata": {
        "id": "9R6f6IA8rarG",
        "colab_type": "code",
        "colab": {}
      },
      "source": [
        "f.close()"
      ],
      "execution_count": 0,
      "outputs": []
    },
    {
      "cell_type": "markdown",
      "metadata": {
        "id": "Y4XJTXb4fUsv",
        "colab_type": "text"
      },
      "source": [
        "# Data Preprocessing"
      ]
    },
    {
      "cell_type": "code",
      "metadata": {
        "id": "0AFvPWqJT0Hm",
        "colab_type": "code",
        "outputId": "a872c960-93b4-437d-acf6-8030591a31b2",
        "colab": {
          "base_uri": "https://localhost:8080/",
          "height": 52
        }
      },
      "source": [
        "!ls data/toyandgame"
      ],
      "execution_count": 0,
      "outputs": [
        {
          "output_type": "stream",
          "text": [
            "item_review  toyandgame_test.csv   toyandgame_valid.csv  user_rid\n",
            "item_rid     toyandgame_train.csv  user_review\n"
          ],
          "name": "stdout"
        }
      ]
    },
    {
      "cell_type": "code",
      "metadata": {
        "id": "OJwv99I4eq2C",
        "colab_type": "code",
        "outputId": "2ab877f5-aeaa-42ed-9a25-efc50446aa6e",
        "colab": {
          "base_uri": "https://localhost:8080/",
          "height": 63
        }
      },
      "source": [
        "import numpy as np\n",
        "import re\n",
        "import itertools\n",
        "from collections import Counter\n",
        "\n",
        "import tensorflow as tf\n",
        "import csv\n",
        "import pickle\n",
        "import os"
      ],
      "execution_count": 0,
      "outputs": [
        {
          "output_type": "display_data",
          "data": {
            "text/html": [
              "<p style=\"color: red;\">\n",
              "The default version of TensorFlow in Colab will soon switch to TensorFlow 2.x.<br>\n",
              "We recommend you <a href=\"https://www.tensorflow.org/guide/migrate\" target=\"_blank\">upgrade</a> now \n",
              "or ensure your notebook will continue to use TensorFlow 1.x via the <code>%tensorflow_version 1.x</code> magic:\n",
              "<a href=\"https://colab.research.google.com/notebooks/tensorflow_version.ipynb\" target=\"_blank\">more info</a>.</p>\n"
            ],
            "text/plain": [
              "<IPython.core.display.HTML object>"
            ]
          },
          "metadata": {
            "tags": []
          }
        }
      ]
    },
    {
      "cell_type": "code",
      "metadata": {
        "id": "XH2AKqD8fOfh",
        "colab_type": "code",
        "outputId": "5c819822-5b46-4d5c-eb93-20e6180d6fed",
        "colab": {
          "base_uri": "https://localhost:8080/",
          "height": 34
        }
      },
      "source": [
        "tf.__version__"
      ],
      "execution_count": 0,
      "outputs": [
        {
          "output_type": "execute_result",
          "data": {
            "text/plain": [
              "'1.15.0'"
            ]
          },
          "metadata": {
            "tags": []
          },
          "execution_count": 3
        }
      ]
    },
    {
      "cell_type": "code",
      "metadata": {
        "id": "CqOqWpv98qdI",
        "colab_type": "code",
        "colab": {}
      },
      "source": [
        "def clean_str(string):\n",
        "    \"\"\"\n",
        "    Tokenization/string cleaning for all datasets except for SST.\n",
        "    Original taken from https://github.com/yoonkim/CNN_sentence/blob/master/process_data.py\n",
        "    \"\"\"\n",
        "    string = re.sub(r\"[^A-Za-z]\", \" \", string)\n",
        "    string = re.sub(r\"\\'s\", \" \\'s\", string)\n",
        "    string = re.sub(r\"\\'ve\", \" \\'ve\", string)\n",
        "    string = re.sub(r\"n\\'t\", \" n\\'t\", string)\n",
        "    string = re.sub(r\"\\'re\", \" \\'re\", string)\n",
        "    string = re.sub(r\"\\'d\", \" \\'d\", string)\n",
        "    string = re.sub(r\"\\'ll\", \" \\'ll\", string)\n",
        "    string = re.sub(r\",\", \" , \", string)\n",
        "    string = re.sub(r\"!\", \" ! \", string)\n",
        "    string = re.sub(r\"\\(\", \" \\( \", string)\n",
        "    string = re.sub(r\"\\)\", \" \\) \", string)\n",
        "    string = re.sub(r\"\\?\", \" \\? \", string)\n",
        "    string = re.sub(r\"\\s{2,}\", \" \", string)\n",
        "    return string.strip().lower()"
      ],
      "execution_count": 0,
      "outputs": []
    },
    {
      "cell_type": "code",
      "metadata": {
        "id": "vCWqP1E5E0qn",
        "colab_type": "code",
        "colab": {}
      },
      "source": [
        "def pad_sentences(u_text, u_len, u2_len, padding_word=\"<PAD/>\"):\n",
        "    \"\"\"\n",
        "    Pads all sentences to the same length. The length is defined by the longest sentence.\n",
        "    Returns padded sentences.\n",
        "    \"\"\"\n",
        "    review_num = u_len\n",
        "    review_len = u2_len\n",
        "\n",
        "    u_text2 = {}\n",
        "    for i in u_text.keys():\n",
        "        u_reviews = u_text[i]\n",
        "        padded_u_train = []\n",
        "        for ri in range(review_num):\n",
        "            if ri < len(u_reviews):\n",
        "                sentence = u_reviews[ri]\n",
        "                if review_len > len(sentence):\n",
        "                    num_padding = review_len - len(sentence)\n",
        "                    new_sentence = sentence + [padding_word] * num_padding\n",
        "                    padded_u_train.append(new_sentence)\n",
        "                else:\n",
        "                    new_sentence = sentence[:review_len]\n",
        "                    padded_u_train.append(new_sentence)\n",
        "            else:\n",
        "                new_sentence = [padding_word] * review_len\n",
        "                padded_u_train.append(new_sentence)\n",
        "        u_text2[i] = padded_u_train\n",
        "\n",
        "    return u_text2"
      ],
      "execution_count": 0,
      "outputs": []
    },
    {
      "cell_type": "code",
      "metadata": {
        "id": "ZwIkTN6ZE-6Y",
        "colab_type": "code",
        "colab": {}
      },
      "source": [
        "def pad_reviewid(u_train, u_valid, u_len, pad_num):\n",
        "    pad_u_train = []\n",
        "    for i in range(len(u_train)):\n",
        "        x = u_train[i]\n",
        "        while u_len > len(x):\n",
        "            x.append(pad_num)\n",
        "        if u_len < len(x):\n",
        "            x = x[:u_len]\n",
        "        pad_u_train.append(x)\n",
        "    \n",
        "    pad_u_valid = []\n",
        "    for i in range(len(u_valid)):\n",
        "        x = u_valid[i]\n",
        "        while u_len > len(x):\n",
        "            x.append(pad_num)\n",
        "        if u_len < len(x):\n",
        "            x = x[:u_len]\n",
        "        pad_u_valid.append(x)\n",
        "        \n",
        "    return pad_u_train, pad_u_valid"
      ],
      "execution_count": 0,
      "outputs": []
    },
    {
      "cell_type": "code",
      "metadata": {
        "id": "937BCifwFFh9",
        "colab_type": "code",
        "colab": {}
      },
      "source": [
        "def build_vocab(sentences1, sentences2):\n",
        "    \"\"\"\n",
        "    Builds a vocabulary mapping from word to index based on the sentences.\n",
        "    Returns vocabulary mapping and inverse vocabulary mapping.\n",
        "    \"\"\"\n",
        "    # Build vocabulary\n",
        "    word_counts1 = Counter(itertools.chain(*sentences1))\n",
        "    # Mapping from index to word\n",
        "    vocabulary_inv1 = [x[0] for x in word_counts1.most_common()]\n",
        "    vocabulary_inv1 = sorted(vocabulary_inv1)\n",
        "    # Mapping from word to index\n",
        "    vocabulary1 = {x: i for i, x in enumerate(vocabulary_inv1)}\n",
        "\n",
        "    word_counts2 = Counter(itertools.chain(*sentences2))\n",
        "    # Mapping from index to word\n",
        "    vocabulary_inv2 = [x[0] for x in word_counts2.most_common()]\n",
        "    vocabulary_inv2 = sorted(vocabulary_inv2)\n",
        "    # Mapping from word to index\n",
        "    vocabulary2 = {x: i for i, x in enumerate(vocabulary_inv2)}\n",
        "    return (vocabulary1, vocabulary_inv1, vocabulary2, vocabulary_inv2)\n"
      ],
      "execution_count": 0,
      "outputs": []
    },
    {
      "cell_type": "code",
      "metadata": {
        "id": "Eyd1I5SJFM75",
        "colab_type": "code",
        "colab": {}
      },
      "source": [
        "def build_input_data(u_text, i_text, vocabulary_u, vocabulary_i):\n",
        "    \"\"\"\n",
        "    Maps sentencs and labels to vectors based on a vocabulary.\n",
        "    \"\"\"\n",
        "    l = len(u_text)\n",
        "    u_text2 = {}\n",
        "    for i in u_text.keys():\n",
        "        u_reviews = u_text[i]\n",
        "        u_rev_new = np.array([[vocabulary_u[word] for word in words] for words in u_reviews])\n",
        "        u_text2[i] = u_rev_new\n",
        "    l = len(i_text)\n",
        "    i_text2 = {}\n",
        "    for j in i_text.keys():\n",
        "        i_reviews = i_text[j]\n",
        "        i_rev_new = np.array([[vocabulary_i[word] for word in words] for words in i_reviews])\n",
        "        i_text2[j] = i_rev_new\n",
        "    return u_text2, i_text2"
      ],
      "execution_count": 0,
      "outputs": []
    },
    {
      "cell_type": "code",
      "metadata": {
        "id": "9fsA158Xk934",
        "colab_type": "code",
        "colab": {}
      },
      "source": [
        "def load_data_and_labels(train_data, valid_data, user_review, item_review, user_rid, item_rid, stopwords):\n",
        "    \"\"\"\n",
        "    Loads MR polarity data from files, splits the data into words and generates labels.\n",
        "    Returns split sentences and labels.\n",
        "    \"\"\"\n",
        "    # Load data from files\n",
        "\n",
        "    f_train = open(train_data, 'r')\n",
        "    f1 = open(user_review, 'rb')\n",
        "    f2 = open(item_review, 'rb')\n",
        "    f3 = open(user_rid, 'rb')\n",
        "    f4 = open(item_rid, 'rb')\n",
        "\n",
        "    user_reviews = pickle.load(f1)\n",
        "    item_reviews = pickle.load(f2)\n",
        "    user_rids = pickle.load(f3)\n",
        "    item_rids = pickle.load(f4)\n",
        "\n",
        "    print(\"train\")\n",
        "    reid_user_train = []\n",
        "    reid_item_train = []\n",
        "    uid_train = []\n",
        "    iid_train = []\n",
        "    y_train = []\n",
        "\n",
        "    u_text = {}\n",
        "    u_rid = {}\n",
        "    i_text = {}\n",
        "    i_rid = {}\n",
        "\n",
        "    for line in f_train:\n",
        "        line = line.split(',')\n",
        "        uid_train.append(int(line[0]))\n",
        "        iid_train.append(int(line[1]))\n",
        "        if int(line[0]) in u_text:\n",
        "            reid_user_train.append(u_rid[int(line[0])])\n",
        "        else:\n",
        "            u_text[int(line[0])] = []\n",
        "            for s in user_reviews[int(line[0])]:\n",
        "                s1 = clean_str(s)\n",
        "                s1 = s1.split(\" \")\n",
        "                u_text[int(line[0])].append(s1)\n",
        "            u_rid[int(line[0])] = []\n",
        "            for s in user_rids[int(line[0])]:\n",
        "                u_rid[int(line[0])].append(int(s))\n",
        "            reid_user_train.append(u_rid[int(line[0])])\n",
        "\n",
        "        if int(line[1]) in i_text:\n",
        "            reid_item_train.append(i_rid[int(line[1])])\n",
        "        else:\n",
        "            i_text[int(line[1])] = []\n",
        "            for s in item_reviews[int(line[1])]:\n",
        "                s1 = clean_str(s)\n",
        "                s1 = s1.split(\" \")\n",
        "                i_text[int(line[1])].append(s1)\n",
        "            i_rid[int(line[1])] = []\n",
        "            for s in item_rids[int(line[1])]:\n",
        "                i_rid[int(line[1])].append(int(s))\n",
        "            reid_item_train.append(i_rid[int(line[1])])\n",
        "\n",
        "        y_train.append(float(line[2]))\n",
        "\n",
        "    print(\"valid\")\n",
        "    f_valid = open(valid_data, 'r')\n",
        "\n",
        "    reid_user_valid = []\n",
        "    reid_item_valid = []\n",
        "    uid_valid = []\n",
        "    iid_valid = []\n",
        "    y_valid = []\n",
        "\n",
        "    for line in f_valid:\n",
        "        line = line.split(',')\n",
        "        uid_valid.append(int(line[0]))\n",
        "        iid_valid.append(int(line[1]))\n",
        "        if int(line[0]) in u_text:\n",
        "            reid_user_valid.append(u_rid[int(line[0])])\n",
        "        else:\n",
        "            print(\"Added user\", int(line[0]))\n",
        "            u_text[int(line[0])] = [['<PAD/>']]\n",
        "            u_rid[int(line[0])] = [int(0)]\n",
        "            reid_user_valid.append(u_rid[int(line[0])])\n",
        "\n",
        "        if int(line[1]) in i_text:\n",
        "            reid_item_valid.append(i_rid[int(line[1])])\n",
        "        else:\n",
        "            print(\"Added item\", int(line[1]))\n",
        "            i_text[int(line[1])] = [['<PAD/>']]\n",
        "            i_rid[int(line[1])] = [int(0)]\n",
        "            reid_item_valid.append(i_rid[int(line[1])])\n",
        "\n",
        "        y_valid.append(float(line[2]))\n",
        "\n",
        "    print(\"len\")\n",
        "    review_num_u = np.array([len(x) for x in u_text.values()])\n",
        "    x = np.sort(review_num_u)\n",
        "    u_len = x[int(0.9 * len(review_num_u)) - 1]\n",
        "    review_len_u = np.array([len(j) for i in u_text.values() for j in i])\n",
        "    x2 = np.sort(review_len_u)\n",
        "    u2_len = x2[int(0.9 * len(review_len_u)) - 1]\n",
        "    review_num_i = np.array([len(x) for x in i_text.values()])\n",
        "    y = np.sort(review_num_i)\n",
        "    i_len = y[int(0.9 * len(review_num_i)) - 1]\n",
        "    review_len_i = np.array([len(j) for i in i_text.values() for j in i])\n",
        "    y2 = np.sort(review_len_i)\n",
        "    i2_len = y2[int(0.9 * len(review_len_i)) - 1]\n",
        "\n",
        "    print(\"u_len:\", u_len)\n",
        "    print(\"i_len:\", i_len)\n",
        "    print(\"u2_len:\", u2_len)\n",
        "    print(\"i2_len:\", i2_len)\n",
        "    user_num = len(u_text)\n",
        "    item_num = len(i_text)\n",
        "    print(\"user_num:\", user_num)\n",
        "    print(\"item_num:\", item_num)\n",
        "    return (u_text, i_text, y_train, y_valid, u_len, i_len, u2_len, i2_len,\\\n",
        "            uid_train, iid_train, uid_valid, iid_valid, user_num, item_num,\\\n",
        "            reid_user_train, reid_item_train, reid_user_valid, reid_item_valid)"
      ],
      "execution_count": 0,
      "outputs": []
    },
    {
      "cell_type": "code",
      "metadata": {
        "id": "-zZgaQTWFXlS",
        "colab_type": "code",
        "colab": {}
      },
      "source": [
        "def load_and_preprocess_data(train_data, valid_data, user_review, item_review, user_rid, item_rid, stopwords):\n",
        "    \"\"\"\n",
        "    Loads and preprocessed data for the MR dataset.\n",
        "    Returns input vectors, labels, vocabulary, and inverse vocabulary.\n",
        "    \"\"\"\n",
        "    # Load and preprocess data\n",
        "\n",
        "    u_text, i_text, y_train, y_valid, u_len, i_len, u2_len, i2_len,\\\n",
        "    uid_train, iid_train, uid_valid, iid_valid, user_num, item_num,\\\n",
        "    reid_user_train, reid_item_train, reid_user_valid, reid_item_valid\\\n",
        "    = load_data_and_labels(train_data, valid_data, user_review, item_review, user_rid, item_rid, stopwords)\n",
        "    print('load data done')\n",
        "\n",
        "    u_text = pad_sentences(u_text, u_len, u2_len)\n",
        "    reid_user_train, reid_user_valid = pad_reviewid(reid_user_train, reid_user_valid, u_len, item_num + 1)\n",
        "    print('pad user done')\n",
        "\n",
        "    i_text = pad_sentences(i_text, i_len, i2_len)\n",
        "    reid_item_train, reid_item_valid = pad_reviewid(reid_item_train, reid_item_valid, i_len, user_num + 1)\n",
        "    print('pad item done')\n",
        "\n",
        "    user_voc = [xx for x in u_text.values() for xx in x]\n",
        "    item_voc = [xx for x in i_text.values() for xx in x]    \n",
        "    vocabulary_user, vocabulary_inv_user, vocabulary_item, vocabulary_inv_item = build_vocab(user_voc, item_voc)\n",
        "    print(len(vocabulary_user))\n",
        "    print(len(vocabulary_item))\n",
        "\n",
        "    u_text, i_text = build_input_data(u_text, i_text, vocabulary_user, vocabulary_item)\n",
        "    y_train = np.array(y_train)\n",
        "    y_valid = np.array(y_valid)\n",
        "    uid_train = np.array(uid_train)\n",
        "    uid_valid = np.array(uid_valid)\n",
        "    iid_train = np.array(iid_train)\n",
        "    iid_valid = np.array(iid_valid)\n",
        "    reid_user_train = np.array(reid_user_train)\n",
        "    reid_user_valid = np.array(reid_user_valid)\n",
        "    reid_item_train = np.array(reid_item_train)\n",
        "    reid_item_valid = np.array(reid_item_valid)\n",
        "\n",
        "    return (u_text, i_text, y_train, y_valid,\\\n",
        "            vocabulary_user, vocabulary_inv_user, vocabulary_item, vocabulary_inv_item,\\\n",
        "            uid_train, iid_train, uid_valid, iid_valid, user_num, item_num,\\\n",
        "            reid_user_train, reid_item_train, reid_user_valid, reid_item_valid)"
      ],
      "execution_count": 0,
      "outputs": []
    },
    {
      "cell_type": "code",
      "metadata": {
        "id": "KQtBA7aTFSsM",
        "colab_type": "code",
        "colab": {}
      },
      "source": [
        "TPS_DIR = 'data/toyandgame'"
      ],
      "execution_count": 0,
      "outputs": []
    },
    {
      "cell_type": "code",
      "metadata": {
        "id": "NWwGpwbUobRn",
        "colab_type": "code",
        "colab": {}
      },
      "source": [
        "train_data = os.path.join(TPS_DIR, 'toyandgame_train.csv')\n",
        "valid_data = os.path.join(TPS_DIR, 'toyandgame_valid.csv')\n",
        "user_review = os.path.join(TPS_DIR, 'user_review')\n",
        "item_review = os.path.join(TPS_DIR, 'item_review')\n",
        "user_rid = os.path.join(TPS_DIR, 'user_rid')\n",
        "item_rid = os.path.join(TPS_DIR, 'item_rid')"
      ],
      "execution_count": 0,
      "outputs": []
    },
    {
      "cell_type": "code",
      "metadata": {
        "id": "nxih8TqcHPJI",
        "colab_type": "code",
        "outputId": "7ad33f7e-4093-4429-9890-817fa303f356",
        "colab": {
          "base_uri": "https://localhost:8080/",
          "height": 280
        }
      },
      "source": [
        "u_text, i_text, y_train, y_valid,\\\n",
        "vocabulary_user, vocabulary_inv_user, vocabulary_item, vocabulary_inv_item,\\\n",
        "uid_train, iid_train, uid_valid, iid_valid, user_num, item_num,\\\n",
        "reid_user_train, reid_item_train, reid_user_valid, reid_item_valid\\\n",
        "= load_and_preprocess_data(train_data, valid_data, user_review, item_review, user_rid, item_rid, None)"
      ],
      "execution_count": 0,
      "outputs": [
        {
          "output_type": "stream",
          "text": [
            "train\n",
            "valid\n",
            "Added user 9996\n",
            "len\n",
            "u_len: 11\n",
            "i_len: 23\n",
            "u2_len: 224\n",
            "i2_len: 224\n",
            "user_num: 19412\n",
            "item_num: 11924\n",
            "load data done\n",
            "pad user done\n",
            "pad item done\n",
            "56456\n",
            "59414\n"
          ],
          "name": "stdout"
        }
      ]
    },
    {
      "cell_type": "code",
      "metadata": {
        "id": "BwolsIYAIrRP",
        "colab_type": "code",
        "colab": {}
      },
      "source": [
        "np.random.seed(2017)\n",
        "shuffle_indices = np.random.permutation(np.arange(len(y_train)))"
      ],
      "execution_count": 0,
      "outputs": []
    },
    {
      "cell_type": "code",
      "metadata": {
        "id": "lfErjg1CIw-a",
        "colab_type": "code",
        "outputId": "ba2d1540-ab78-4d0a-b767-dcdfa724bac9",
        "colab": {
          "base_uri": "https://localhost:8080/",
          "height": 34
        }
      },
      "source": [
        "len(y_train), len(uid_train), len(iid_train), len(reid_user_train), len(reid_item_train)"
      ],
      "execution_count": 0,
      "outputs": [
        {
          "output_type": "execute_result",
          "data": {
            "text/plain": [
              "(134078, 134078, 134078, 134078, 134078)"
            ]
          },
          "metadata": {
            "tags": []
          },
          "execution_count": 20
        }
      ]
    },
    {
      "cell_type": "code",
      "metadata": {
        "id": "bHKeg8myJB7P",
        "colab_type": "code",
        "outputId": "1651aaa9-8e94-4ef8-b874-73b66cb58986",
        "colab": {
          "base_uri": "https://localhost:8080/",
          "height": 34
        }
      },
      "source": [
        "len(y_valid), len(uid_valid), len(iid_valid), len(reid_user_valid), len(reid_item_valid)"
      ],
      "execution_count": 0,
      "outputs": [
        {
          "output_type": "execute_result",
          "data": {
            "text/plain": [
              "(16760, 16760, 16760, 16760, 16760)"
            ]
          },
          "metadata": {
            "tags": []
          },
          "execution_count": 22
        }
      ]
    },
    {
      "cell_type": "code",
      "metadata": {
        "id": "eorXGN6s0D53",
        "colab_type": "code",
        "colab": {}
      },
      "source": [
        "userid_train = uid_train[shuffle_indices]\n",
        "itemid_train = iid_train[shuffle_indices]\n",
        "y_train = y_train[shuffle_indices]\n",
        "reid_user_train = reid_user_train[shuffle_indices]\n",
        "reid_item_train = reid_item_train[shuffle_indices]"
      ],
      "execution_count": 0,
      "outputs": []
    },
    {
      "cell_type": "code",
      "metadata": {
        "id": "SLTJWhFl0xQ2",
        "colab_type": "code",
        "colab": {}
      },
      "source": [
        "y_train = y_train[:, np.newaxis]\n",
        "y_valid = y_valid[:, np.newaxis]\n",
        "\n",
        "userid_train = userid_train[:, np.newaxis]\n",
        "itemid_train = itemid_train[:, np.newaxis]\n",
        "userid_valid = uid_valid[:, np.newaxis]\n",
        "itemid_valid = iid_valid[:, np.newaxis]"
      ],
      "execution_count": 0,
      "outputs": []
    },
    {
      "cell_type": "code",
      "metadata": {
        "id": "iQ6nafk-06bS",
        "colab_type": "code",
        "outputId": "08455c35-faa5-489b-ecb2-a36ef181adb3",
        "colab": {
          "base_uri": "https://localhost:8080/",
          "height": 34
        }
      },
      "source": [
        "batches_train = list(zip(userid_train, itemid_train, reid_user_train, reid_item_train, y_train))\n",
        "batches_test = list(zip(userid_valid, itemid_valid, reid_user_valid, reid_item_valid, y_valid))\n",
        "print('write begin')\n",
        "output = open(os.path.join(TPS_DIR, 'toyandgame.train'), 'wb')\n",
        "pickle.dump(batches_train, output)\n",
        "output = open(os.path.join(TPS_DIR, 'toyandgame.test'), 'wb')\n",
        "pickle.dump(batches_test, output)"
      ],
      "execution_count": 0,
      "outputs": [
        {
          "output_type": "stream",
          "text": [
            "write begin\n"
          ],
          "name": "stdout"
        }
      ]
    },
    {
      "cell_type": "code",
      "metadata": {
        "id": "t1-Y0zsIK7dg",
        "colab_type": "code",
        "colab": {}
      },
      "source": [
        "para = {}\n",
        "para['user_num'] = user_num\n",
        "para['item_num'] = item_num\n",
        "para['review_num_u'] = u_text[0].shape[0]\n",
        "para['review_num_i'] = i_text[0].shape[0]\n",
        "para['review_len_u'] = u_text[1].shape[1]\n",
        "para['review_len_i'] = i_text[1].shape[1]\n",
        "para['user_vocab'] = vocabulary_user\n",
        "para['item_vocab'] = vocabulary_item\n",
        "para['train_length'] = len(y_train)\n",
        "para['test_length'] = len(y_valid)\n",
        "para['u_text'] = u_text\n",
        "para['i_text'] = i_text\n",
        "output = open(os.path.join(TPS_DIR, 'toyandgame.para'), 'wb')\n",
        "\n",
        "# Pickle dictionary using protocol 0.\n",
        "pickle.dump(para, output)"
      ],
      "execution_count": 0,
      "outputs": []
    },
    {
      "cell_type": "code",
      "metadata": {
        "id": "gHphR8A8PePN",
        "colab_type": "code",
        "outputId": "5e041843-ec2e-46ea-fada-b8a254b55f0d",
        "colab": {
          "base_uri": "https://localhost:8080/",
          "height": 210
        }
      },
      "source": [
        "!ls -l data/toyandgame"
      ],
      "execution_count": 0,
      "outputs": [
        {
          "output_type": "stream",
          "text": [
            "total 1089372\n",
            "-rw-r--r-- 1 root root  73293404 Jan 21 20:32 item_review\n",
            "-rw-r--r-- 1 root root    530690 Jan 21 20:32 item_rid\n",
            "-rw-r--r-- 1 root root 878821228 Jan 22 21:52 toyandgame.para\n",
            "-rw-r--r-- 1 root root   9602953 Jan 22 21:33 toyandgame.test\n",
            "-rw-r--r-- 1 root root    243036 Jan 22 17:29 toyandgame_test.csv\n",
            "-rw-r--r-- 1 root root  76826403 Jan 22 21:33 toyandgame.train\n",
            "-rw-r--r-- 1 root root   1942775 Jan 22 17:29 toyandgame_train.csv\n",
            "-rw-r--r-- 1 root root    242865 Jan 22 17:29 toyandgame_valid.csv\n",
            "-rw-r--r-- 1 root root  73375772 Jan 21 20:32 user_review\n",
            "-rw-r--r-- 1 root root    611496 Jan 21 20:32 user_rid\n"
          ],
          "name": "stdout"
        }
      ]
    },
    {
      "cell_type": "code",
      "metadata": {
        "id": "ExUYMXBHPtH9",
        "colab_type": "code",
        "outputId": "461f7476-1f0b-41d5-dace-d347d14e5afe",
        "colab": {
          "base_uri": "https://localhost:8080/",
          "height": 70
        }
      },
      "source": [
        "!zip -r data/toyandgame/toyandgame_batch_para.zip data/toyandgame/toyandgame.train data/toyandgame/toyandgame.test data/toyandgame/toyandgame.para"
      ],
      "execution_count": 0,
      "outputs": [
        {
          "output_type": "stream",
          "text": [
            "  adding: data/toyandgame/toyandgame.train (deflated 71%)\n",
            "  adding: data/toyandgame/toyandgame.test (deflated 77%)\n",
            "  adding: data/toyandgame/toyandgame.para (deflated 95%)\n"
          ],
          "name": "stdout"
        }
      ]
    }
  ]
}